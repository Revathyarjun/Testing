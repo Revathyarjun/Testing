{
 "cells": [
  {
   "cell_type": "code",
   "execution_count": 1,
   "id": "37b652d1",
   "metadata": {},
   "outputs": [],
   "source": [
    "#Testing "
   ]
  },
  {
   "cell_type": "code",
   "execution_count": 2,
   "id": "c7e7b85b",
   "metadata": {},
   "outputs": [],
   "source": [
    "#Amrita Checking"
   ]
  },
  {
   "cell_type": "code",
   "execution_count": 3,
   "id": "c3502be5",
   "metadata": {},
   "outputs": [],
   "source": [
    "#Amrita again checking"
   ]
  },
  {
   "cell_type": "code",
   "execution_count": null,
   "id": "027f16a5",
   "metadata": {},
   "outputs": [],
   "source": []
  }
 ],
 "metadata": {
  "kernelspec": {
   "display_name": "Python 3 (ipykernel)",
   "language": "python",
   "name": "python3"
  },
  "language_info": {
   "codemirror_mode": {
    "name": "ipython",
    "version": 3
   },
   "file_extension": ".py",
   "mimetype": "text/x-python",
   "name": "python",
   "nbconvert_exporter": "python",
   "pygments_lexer": "ipython3",
   "version": "3.11.5"
  }
 },
 "nbformat": 4,
 "nbformat_minor": 5
}
